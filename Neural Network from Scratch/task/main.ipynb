{
 "cells": [
  {
   "cell_type": "code",
   "execution_count": 7,
   "outputs": [],
   "source": [
    "import numpy as np\n",
    "from MLP import MultiLayerPerceptron, MultiLayerPerceptronBig, calculate_accuracy\n",
    "from matplotlib import pyplot as plt\n"
   ],
   "metadata": {
    "collapsed": false,
    "ExecuteTime": {
     "end_time": "2023-12-04T21:54:36.085607200Z",
     "start_time": "2023-12-04T21:54:36.061957800Z"
    }
   }
  },
  {
   "cell_type": "markdown",
   "source": [
    "# Train an MLP with 2 inputs, 3-4+ hidden units and one output on the\n",
    "# following examples (XOR function):\n",
    "((0, 0), 0)\n",
    "((0, 1), 1)\n",
    "((1, 0), 1)\n",
    "((1, 1), 0)\n",
    "Here we will try to find the best alpha and hidden unit size for the MLP by training it on the XOR function."
   ],
   "metadata": {
    "collapsed": false
   }
  },
  {
   "cell_type": "code",
   "execution_count": 28,
   "outputs": [
    {
     "name": "stdout",
     "output_type": "stream",
     "text": [
      "[[ 0.06780946]\n",
      " [ 0.99602657]\n",
      " [ 0.99597372]\n",
      " [-0.10112516]]\n"
     ]
    }
   ],
   "source": [
    "X = np.array([[0, 0], [0, 1], [1, 0], [1, 1]])\n",
    "y = np.array([[0], [1], [1], [0]])\n",
    "\n",
    "network = MultiLayerPerceptron(2, 10, 1)\n",
    "network.randomise()\n",
    "\n",
    "# Train the MLP\n",
    "for epoch in range(10000):\n",
    "    network.train(X, y, 0.2)\n",
    "\n",
    "print(network.forward(X))"
   ],
   "metadata": {
    "collapsed": false,
    "ExecuteTime": {
     "end_time": "2023-12-04T21:16:34.891879900Z",
     "start_time": "2023-12-04T21:16:34.683269500Z"
    }
   }
  },
  {
   "cell_type": "code",
   "execution_count": 3,
   "outputs": [
    {
     "name": "stderr",
     "output_type": "stream",
     "text": [
      "C:\\comp_sci\\coding\\python\\Neural Network from Scratch\\Neural Network from Scratch\\task\\MLP.py:21: RuntimeWarning: overflow encountered in sinh\n",
      "  return np.sinh(x) / np.cosh(x)\n",
      "C:\\comp_sci\\coding\\python\\Neural Network from Scratch\\Neural Network from Scratch\\task\\MLP.py:21: RuntimeWarning: overflow encountered in cosh\n",
      "  return np.sinh(x) / np.cosh(x)\n",
      "C:\\comp_sci\\coding\\python\\Neural Network from Scratch\\Neural Network from Scratch\\task\\MLP.py:21: RuntimeWarning: invalid value encountered in divide\n",
      "  return np.sinh(x) / np.cosh(x)\n"
     ]
    },
    {
     "data": {
      "text/plain": "<Figure size 640x480 with 2 Axes>",
      "image/png": "[encoded data removed]"
     },
     "metadata": {},
     "output_type": "display_data"
    },
    {
     "data": {
      "text/plain": "<Figure size 640x480 with 0 Axes>"
     },
     "metadata": {},
     "output_type": "display_data"
    }
   ],
   "source": [
    "hidden_unit_sizes = [3, 6, 10, 20, 30, 40]\n",
    "alpha_values = [0.1, 0.2, 0.3, 0.4, 0.5, 0.6, 0.7, 0.8, 0.9]\n",
    "\n",
    "# plot alpha values against hidden unit size for the MLP on the XOR function\n",
    "# use a scatter plot\n",
    "total_accuracy = np.zeros((len(alpha_values), len(hidden_unit_sizes)))\n",
    "\n",
    "def accuracy(network, I, t):\n",
    "    # Calculate the accuracy of the model\n",
    "    y_pred = np.round(network.forward(I))\n",
    "    return np.mean(y_pred == t)\n",
    "\n",
    "def train_and_evaluate(alpha, hidden_unit_size):\n",
    "    # Create the MLP\n",
    "    network = MultiLayerPerceptron(2, hidden_unit_size, 1)\n",
    "    network.randomise()\n",
    "\n",
    "    # Train the MLP\n",
    "    for epoch in range(10000):\n",
    "        network.train(X, y, alpha)\n",
    "\n",
    "    # Calculate accuracy\n",
    "    return accuracy(network, X, y)\n",
    "\n",
    "for i, learning_rate in enumerate(alpha_values):\n",
    "    for j, hidden_unit_size in enumerate(hidden_unit_sizes):\n",
    "        total_accuracy[i, j] = train_and_evaluate(learning_rate, hidden_unit_size)\n",
    "\n",
    "plt.imshow(total_accuracy, cmap='viridis')\n",
    "plt.xticks(np.arange(len(hidden_unit_sizes)), hidden_unit_sizes)\n",
    "plt.xlabel('Hidden unit size')\n",
    "plt.yticks(np.arange(len(alpha_values)), alpha_values)\n",
    "plt.ylabel('Learning rate')\n",
    "plt.colorbar()\n",
    "plt.show()\n",
    "location = \"figures/mlp_alpha_units\"\n",
    "plt.savefig(f\"{location}.png\")\n",
    "\n"
   ],
   "metadata": {
    "collapsed": false,
    "ExecuteTime": {
     "end_time": "2023-12-04T20:41:58.765074Z",
     "start_time": "2023-12-04T20:41:56.875405900Z"
    }
   }
  },
  {
   "cell_type": "markdown",
   "source": [
    "# Now we will train the MLP on a combination of inputs"
   ],
   "metadata": {
    "collapsed": false
   }
  },
  {
   "cell_type": "code",
   "execution_count": 3,
   "outputs": [],
   "source": [
    "def calculate_mse(predictions, actual_values):\n",
    "    errors = predictions - actual_values\n",
    "    squared_errors = errors * errors\n",
    "    mse = np.mean(squared_errors)\n",
    "    return mse\n",
    "\n",
    "def calculate_mae(predictions, actual_values):\n",
    "    errors = predictions - actual_values\n",
    "    absolute_errors = np.abs(errors)\n",
    "    mae = np.mean(absolute_errors)\n",
    "    return mae\n"
   ],
   "metadata": {
    "collapsed": false,
    "ExecuteTime": {
     "end_time": "2023-12-04T21:52:20.756242700Z",
     "start_time": "2023-12-04T21:52:20.740272Z"
    }
   }
  },
  {
   "cell_type": "code",
   "execution_count": 9,
   "outputs": [
    {
     "name": "stdout",
     "output_type": "stream",
     "text": [
      "Test set:\n",
      "MSE: 0.00042918873904452295\n",
      "MAE: 0.01420570985472955\n",
      "accuracy: 0.99\n",
      "\n",
      "\n",
      "small test set:\n",
      "[[-0.48253909]] -0.479425538604203\n",
      "[[-0.21904407]] -0.19866933079506127\n"
     ]
    }
   ],
   "source": [
    "# Generate 500 vectors containing 4 components each. The value of each\n",
    "# component should be a random number between -1 and 1. These will be\n",
    "# your input vectors. The corresponding output for each vector should be\n",
    "# the sin() of a combination of the components. Specifically, for inputs:\n",
    "# [x1 x2 x3 x4]\n",
    "# the (single component) output should be:\n",
    "# sin(x1-x2+x3-x4)\n",
    "# Now train an MLP with 4 inputs, at least 5 hidden units and one output\n",
    "# on 400 of these examples and keep the remaining 100 for testing.\n",
    "\n",
    "X = np.random.uniform(-1, 1, (500, 4))\n",
    "y = np.sin(X[:, 0] - X[:, 1] + X[:, 2] - X[:, 3]).reshape(-1, 1)\n",
    "\n",
    "mlp = MultiLayerPerceptronBig(4, 10, 20, 1, activation='tanh')\n",
    "#mlp.randomise()\n",
    "\n",
    "#print(mlp.forward(X[0]))\n",
    "# Train the MLP\n",
    "for epoch in range(1000):\n",
    "    for value, target in zip(X[:400], y[:400]):\n",
    "        mlp.train(value, target, 0.1)\n",
    "    #mlp.train(X[:400], y[:400], 0.1)\n",
    "\n",
    "    # if epoch % 1000 == 0:\n",
    "    #     # print(f\"Epoch {epoch} accuracy: {mlp.accuracy(X[400:], y[400:])}\")\n",
    "    #     # print(y[400:][0])\n",
    "    #     forward = mlp.forward(X[:400])\n",
    "    #     print(f\"MSE: {calculate_mse(forward, y[:400])}\")\n",
    "    #     print(f\"MAE: {calculate_mae(forward, y[:400])}\")\n",
    "    #     print(f\"accuracy: {calculate_accuracy(forward, y[:400])}\\n\")\n",
    "\n",
    "# Calculate accuracy\n",
    "# print(mlp.accuracy(X[400:], y[400:]))\n",
    "\n",
    "# test the MLP on the remaining 100 examples\n",
    "print(\"Test set:\")\n",
    "forward = mlp.forward(X[:400])\n",
    "print(f\"MSE: {calculate_mse(forward, y[:400])}\")\n",
    "print(f\"MAE: {calculate_mae(forward, y[:400])}\")\n",
    "print(f\"accuracy: {calculate_accuracy(forward, y[:400])}\\n\")\n",
    "\n",
    "print(\"\\nsmall test set:\")\n",
    "print(mlp.forward(np.array([0.25, 0.5, 0.75, 1.0])), np.sin(0.25 - 0.5 + 0.75 - 1.0))\n",
    "print(mlp.forward(np.array([0.5, 0.6, 0.7, 0.8])), np.sin(0.5 - 0.6 + 0.7 - 0.8))\n"
   ],
   "metadata": {
    "collapsed": false,
    "ExecuteTime": {
     "end_time": "2023-12-04T21:55:40.127799400Z",
     "start_time": "2023-12-04T21:55:20.313866500Z"
    }
   }
  },
  {
   "cell_type": "markdown",
   "source": [
    "## Test combinations of different learning rates and hidden unit sizes"
   ],
   "metadata": {
    "collapsed": false
   }
  },
  {
   "cell_type": "code",
   "execution_count": 10,
   "outputs": [
    {
     "data": {
      "text/plain": "<Figure size 640x480 with 2 Axes>",
      "image/png": "[encoded data removed]"
     },
     "metadata": {},
     "output_type": "display_data"
    },
    {
     "data": {
      "text/plain": "<Figure size 640x480 with 0 Axes>"
     },
     "metadata": {},
     "output_type": "display_data"
    }
   ],
   "source": [
    "hidden_unit_sizes = [3, 6, 10, 20, 30, 40]\n",
    "alpha_values = [0.1, 0.2, 0.3, 0.4, 0.5, 0.6, 0.7, 0.8, 0.9]\n",
    "\n",
    "total_accuracy = np.zeros((len(alpha_values), len(hidden_unit_sizes)))\n",
    "\n",
    "def train_and_evaluate(alpha, h1_size, h2_size):\n",
    "    # Create the MLP\n",
    "    network = MultiLayerPerceptronBig(4, h1_size, h2_size, 1)\n",
    "\n",
    "    # Train the MLP\n",
    "    for epoch in range(100):\n",
    "        for value, target in zip(X[:400], y[:400]):\n",
    "            network.train(value, target, alpha)\n",
    "\n",
    "    # Calculate accuracy\n",
    "    return calculate_accuracy(network.forward(X), y)\n",
    "\n",
    "for i, learning_rate in enumerate(alpha_values):\n",
    "    for j, hidden_unit_size in enumerate(hidden_unit_sizes):\n",
    "        total_accuracy[i, j] = train_and_evaluate(learning_rate, hidden_unit_sizes[j], hidden_unit_sizes[j*-1 - 1])\n",
    "\n",
    "# plot heat map\n",
    "plt.imshow(total_accuracy, cmap='viridis')\n",
    "plt.xticks(np.arange(len(hidden_unit_sizes)), zip(hidden_unit_sizes, hidden_unit_sizes[::-1]), rotation='vertical')\n",
    "plt.xlabel('Hidden unit size')\n",
    "plt.yticks(np.arange(len(alpha_values)), alpha_values)\n",
    "plt.ylabel('Learning rate')\n",
    "plt.colorbar()\n",
    "plt.show()\n",
    "location = \"figures/mlp_alpha_units\"\n",
    "plt.savefig(f\"{location}.png\")\n"
   ],
   "metadata": {
    "collapsed": false,
    "ExecuteTime": {
     "end_time": "2023-12-04T22:00:36.393786800Z",
     "start_time": "2023-12-04T21:58:51.693085800Z"
    }
   }
  }
 ],
 "metadata": {
  "kernelspec": {
   "display_name": "Python 3",
   "language": "python",
   "name": "python3"
  },
  "language_info": {
   "codemirror_mode": {
    "name": "ipython",
    "version": 2
   },
   "file_extension": ".py",
   "mimetype": "text/x-python",
   "name": "python",
   "nbconvert_exporter": "python",
   "pygments_lexer": "ipython2",
   "version": "2.7.6"
  }
 },
 "nbformat": 4,
 "nbformat_minor": 0
}
