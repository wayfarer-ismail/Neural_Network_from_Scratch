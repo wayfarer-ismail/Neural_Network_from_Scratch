{
 "cells": [
  {
   "cell_type": "code",
   "execution_count": 1,
   "outputs": [],
   "source": [
    "# Train an MLP with 2 inputs, 3-4+ hidden units and one output on the\n",
    "# following examples (XOR function):\n",
    "# ((0, 0), 0)\n",
    "# ((0, 1), 1)\n",
    "# ((1, 0), 1)\n",
    "# ((1, 1), 0)\n",
    "\n",
    "import numpy as np\n",
    "from MLP import MultiLayerPerceptron\n",
    "from matplotlib import pyplot as plt\n",
    "\n",
    "def accuracy(network, I, t):\n",
    "    # Calculate the accuracy of the model\n",
    "    y_pred = np.round(network.forward(I))\n",
    "    accuracy = np.mean(y_pred == t)\n",
    "    return accuracy\n"
   ],
   "metadata": {
    "collapsed": false,
    "ExecuteTime": {
     "end_time": "2023-11-21T09:59:30.381764800Z",
     "start_time": "2023-11-21T09:59:29.630076Z"
    }
   }
  },
  {
   "cell_type": "markdown",
   "source": [
    "Here we will try to find the best alpha and hidden unit size for the MLP by training it on the XOR function."
   ],
   "metadata": {
    "collapsed": false
   }
  },
  {
   "cell_type": "code",
   "execution_count": 24,
   "outputs": [
    {
     "name": "stdout",
     "output_type": "stream",
     "text": [
      "[[0.        ]\n",
      " [0.99656466]\n",
      " [0.99521999]\n",
      " [0.02332426]]\n"
     ]
    }
   ],
   "source": [
    "X = np.array([[0, 0], [0, 1], [1, 0], [1, 1]])\n",
    "y = np.array([[0], [1], [1], [0]])\n",
    "\n",
    "network = MultiLayerPerceptron(2, 10, 1)\n",
    "network.randomise()\n",
    "\n",
    "# Train the MLP\n",
    "for epoch in range(10000):\n",
    "    network.train(X, y, 0.1)\n",
    "\n",
    "print(network.forward(X))"
   ],
   "metadata": {
    "collapsed": false,
    "ExecuteTime": {
     "end_time": "2023-11-21T10:00:44.430284400Z",
     "start_time": "2023-11-21T10:00:44.147683500Z"
    }
   }
  },
  {
   "cell_type": "code",
   "execution_count": 25,
   "outputs": [
    {
     "name": "stderr",
     "output_type": "stream",
     "text": [
      "C:\\comp_sci\\coding\\python\\Neural Network from Scratch\\Neural Network from Scratch\\task\\MLP.py:24: RuntimeWarning: overflow encountered in sinh\n",
      "  return np.sinh(x) / np.cosh(x)\n",
      "C:\\comp_sci\\coding\\python\\Neural Network from Scratch\\Neural Network from Scratch\\task\\MLP.py:24: RuntimeWarning: overflow encountered in cosh\n",
      "  return np.sinh(x) / np.cosh(x)\n",
      "C:\\comp_sci\\coding\\python\\Neural Network from Scratch\\Neural Network from Scratch\\task\\MLP.py:24: RuntimeWarning: invalid value encountered in divide\n",
      "  return np.sinh(x) / np.cosh(x)\n"
     ]
    },
    {
     "data": {
      "text/plain": "<Figure size 640x480 with 2 Axes>",
      "image/png": "[encoded data removed]"
     },
     "metadata": {},
     "output_type": "display_data"
    },
    {
     "data": {
      "text/plain": "<Figure size 640x480 with 0 Axes>"
     },
     "metadata": {},
     "output_type": "display_data"
    }
   ],
   "source": [
    "hidden_unit_sizes = [3, 6, 10, 20, 30, 40]\n",
    "alpha_values = [0.1, 0.2, 0.3, 0.4, 0.5, 0.6, 0.7, 0.8, 0.9]\n",
    "\n",
    "# plot alpha values against hidden unit size for the MLP on the XOR function\n",
    "# use a scatter plot\n",
    "total_accuracy = np.zeros((len(alpha_values), len(hidden_unit_sizes)))\n",
    "\n",
    "def train_and_evaluate(alpha, hidden_unit_size):\n",
    "    # Create the MLP\n",
    "    network = MultiLayerPerceptron(2, hidden_unit_size, 1)\n",
    "    network.randomise()\n",
    "\n",
    "    # Train the MLP\n",
    "    for epoch in range(10000):\n",
    "        network.train(X, y, alpha)\n",
    "\n",
    "    # Calculate accuracy\n",
    "    return accuracy(network, X, y)\n",
    "\n",
    "for i, learning_rate in enumerate(alpha_values):\n",
    "    for j, hidden_unit_size in enumerate(hidden_unit_sizes):\n",
    "        total_accuracy[i, j] = train_and_evaluate(learning_rate, hidden_unit_size)\n",
    "\n",
    "plt.imshow(total_accuracy, cmap='viridis')\n",
    "plt.xticks(np.arange(len(hidden_unit_sizes)), hidden_unit_sizes)\n",
    "plt.xlabel('Hidden unit size')\n",
    "plt.yticks(np.arange(len(alpha_values)), alpha_values)\n",
    "plt.ylabel('Learning rate')\n",
    "plt.colorbar()\n",
    "plt.show()\n",
    "location = \"figures/mlp_alpha_units\"\n",
    "plt.savefig(f\"{location}.png\")\n",
    "\n"
   ],
   "metadata": {
    "collapsed": false,
    "ExecuteTime": {
     "end_time": "2023-11-21T10:02:31.630037100Z",
     "start_time": "2023-11-21T10:02:17.127441200Z"
    }
   }
  }
 ],
 "metadata": {
  "kernelspec": {
   "display_name": "Python 3",
   "language": "python",
   "name": "python3"
  },
  "language_info": {
   "codemirror_mode": {
    "name": "ipython",
    "version": 2
   },
   "file_extension": ".py",
   "mimetype": "text/x-python",
   "name": "python",
   "nbconvert_exporter": "python",
   "pygments_lexer": "ipython2",
   "version": "2.7.6"
  }
 },
 "nbformat": 4,
 "nbformat_minor": 0
}
