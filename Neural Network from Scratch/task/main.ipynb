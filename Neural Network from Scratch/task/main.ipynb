{
 "cells": [
  {
   "cell_type": "code",
   "execution_count": 1,
   "outputs": [],
   "source": [
    "import numpy as np\n",
    "from MLP import MultiLayerPerceptron, MultiLayerPerceptronBig\n",
    "from matplotlib import pyplot as plt\n"
   ],
   "metadata": {
    "collapsed": false,
    "ExecuteTime": {
     "end_time": "2023-11-26T21:05:22.338687Z",
     "start_time": "2023-11-26T21:05:21.785647Z"
    }
   }
  },
  {
   "cell_type": "markdown",
   "source": [
    "# Train an MLP with 2 inputs, 3-4+ hidden units and one output on the\n",
    "# following examples (XOR function):\n",
    "((0, 0), 0)\n",
    "((0, 1), 1)\n",
    "((1, 0), 1)\n",
    "((1, 1), 0)\n",
    "Here we will try to find the best alpha and hidden unit size for the MLP by training it on the XOR function."
   ],
   "metadata": {
    "collapsed": false
   }
  },
  {
   "cell_type": "code",
   "execution_count": 44,
   "outputs": [
    {
     "name": "stdout",
     "output_type": "stream",
     "text": [
      "[[0.        ]\n",
      " [0.99734295]\n",
      " [0.98929028]\n",
      " [0.02358862]]\n"
     ]
    }
   ],
   "source": [
    "X = np.array([[0, 0], [0, 1], [1, 0], [1, 1]])\n",
    "y = np.array([[0], [1], [1], [0]])\n",
    "\n",
    "network = MultiLayerPerceptron(2, 10, 1)\n",
    "network.randomise()\n",
    "\n",
    "# Train the MLP\n",
    "for epoch in range(10000):\n",
    "    network.train(X, y, 0.2)\n",
    "\n",
    "print(network.forward(X))"
   ],
   "metadata": {
    "collapsed": false,
    "ExecuteTime": {
     "end_time": "2023-11-21T10:49:15.799578900Z",
     "start_time": "2023-11-21T10:49:15.520064900Z"
    }
   }
  },
  {
   "cell_type": "code",
   "execution_count": null,
   "outputs": [],
   "source": [
    "hidden_unit_sizes = [3, 6, 10, 20, 30, 40]\n",
    "alpha_values = [0.1, 0.2, 0.3, 0.4, 0.5, 0.6, 0.7, 0.8, 0.9]\n",
    "\n",
    "# plot alpha values against hidden unit size for the MLP on the XOR function\n",
    "# use a scatter plot\n",
    "total_accuracy = np.zeros((len(alpha_values), len(hidden_unit_sizes)))\n",
    "\n",
    "def accuracy(network, I, t):\n",
    "    # Calculate the accuracy of the model\n",
    "    y_pred = np.round(network.forward(I))\n",
    "    return np.mean(y_pred == t)\n",
    "\n",
    "def train_and_evaluate(alpha, hidden_unit_size):\n",
    "    # Create the MLP\n",
    "    network = MultiLayerPerceptron(2, hidden_unit_size, 1)\n",
    "    network.randomise()\n",
    "\n",
    "    # Train the MLP\n",
    "    for epoch in range(10000):\n",
    "        network.train(X, y, alpha)\n",
    "\n",
    "    # Calculate accuracy\n",
    "    return accuracy(network, X, y)\n",
    "\n",
    "for i, learning_rate in enumerate(alpha_values):\n",
    "    for j, hidden_unit_size in enumerate(hidden_unit_sizes):\n",
    "        total_accuracy[i, j] = train_and_evaluate(learning_rate, hidden_unit_size)\n",
    "\n",
    "plt.imshow(total_accuracy, cmap='viridis')\n",
    "plt.xticks(np.arange(len(hidden_unit_sizes)), hidden_unit_sizes)\n",
    "plt.xlabel('Hidden unit size')\n",
    "plt.yticks(np.arange(len(alpha_values)), alpha_values)\n",
    "plt.ylabel('Learning rate')\n",
    "plt.colorbar()\n",
    "plt.show()\n",
    "location = \"figures/mlp_alpha_units\"\n",
    "plt.savefig(f\"{location}.png\")\n",
    "\n"
   ],
   "metadata": {
    "collapsed": false
   }
  },
  {
   "cell_type": "markdown",
   "source": [
    "# Now we will train the MLP on a combination of inputs"
   ],
   "metadata": {
    "collapsed": false
   }
  },
  {
   "cell_type": "code",
   "execution_count": 2,
   "outputs": [],
   "source": [
    "def calculate_mse(predictions, actual_values):\n",
    "    errors = predictions - actual_values\n",
    "    squared_errors = errors * errors\n",
    "    mse = np.mean(squared_errors)\n",
    "    return mse\n",
    "\n",
    "def calculate_mae(predictions, actual_values):\n",
    "    errors = predictions - actual_values\n",
    "    absolute_errors = np.abs(errors)\n",
    "    mae = np.mean(absolute_errors)\n",
    "    return mae\n"
   ],
   "metadata": {
    "collapsed": false,
    "ExecuteTime": {
     "end_time": "2023-11-26T21:05:26.371111900Z",
     "start_time": "2023-11-26T21:05:26.351404800Z"
    }
   }
  },
  {
   "cell_type": "code",
   "execution_count": 24,
   "outputs": [
    {
     "name": "stdout",
     "output_type": "stream",
     "text": [
      "MSE: 1.4793776681181838\n",
      "MAE: 0.9900409914471249\n",
      "accuracy: 1.0\n",
      "\n",
      "MSE: 0.23442486761330536\n",
      "MAE: 0.3675645911946856\n",
      "accuracy: 1.0\n",
      "\n",
      "MSE: 0.2337417672733398\n",
      "MAE: 0.3672230410247028\n",
      "accuracy: 1.0\n",
      "\n",
      "MSE: 2.766044554927971\n",
      "MAE: 1.6333744348520185\n",
      "accuracy: 1.0\n",
      "\n",
      "MSE: 0.23303528878500088\n",
      "MAE: 0.3668698017805333\n",
      "accuracy: 1.0\n",
      "\n",
      "MSE: 2.766044554927971\n",
      "MAE: 1.6333744348520185\n",
      "accuracy: 1.0\n",
      "\n",
      "MSE: 2.766044554927971\n",
      "MAE: 1.6333744348520185\n",
      "accuracy: 1.0\n",
      "\n",
      "MSE: 0.23317539421631914\n",
      "MAE: 0.3669398544961925\n",
      "accuracy: 1.0\n",
      "\n",
      "MSE: 0.23254681551989756\n",
      "MAE: 0.36662556514798167\n",
      "accuracy: 1.0\n",
      "\n",
      "MSE: 0.23254681551989756\n",
      "MAE: 0.36662556514798167\n",
      "accuracy: 1.0\n",
      "\n",
      "1.0\n",
      "Test set:\n",
      "MSE: 2.8926468587485643\n",
      "MAE: 1.6770077935577417\n",
      "accuracy: 1.0\n",
      "\n",
      "small test set:\n",
      "[1.] -0.479425538604203\n",
      "[1.] -0.19866933079506127\n"
     ]
    }
   ],
   "source": [
    "# Generate 500 vectors containing 4 components each. The value of each\n",
    "# component should be a random number between -1 and 1. These will be\n",
    "# your input vectors. The corresponding output for each vector should be\n",
    "# the sin() of a combination of the components. Specifically, for inputs:\n",
    "# [x1 x2 x3 x4]\n",
    "# the (single component) output should be:\n",
    "# sin(x1-x2+x3-x4)\n",
    "# Now train an MLP with 4 inputs, at least 5 hidden units and one output\n",
    "# on 400 of these examples and keep the remaining 100 for testing.\n",
    "\n",
    "X = np.random.uniform(-1, 1, (500, 4))\n",
    "y = np.sin(X[:, 0] - X[:, 1] + X[:, 2] - X[:, 3]).reshape(-1, 1)\n",
    "\n",
    "mlp = MultiLayerPerceptronBig(4, 30, 60, 1, activation='tanh')\n",
    "#mlp.randomise()\n",
    "\n",
    "#print(mlp.forward(X[0]))\n",
    "# Train the MLP\n",
    "for epoch in range(10000):\n",
    "    mlp.train(X[:400], y[:400], 0.85)\n",
    "\n",
    "    if epoch % 1000 == 0:\n",
    "        # print(f\"Epoch {epoch} accuracy: {mlp.accuracy(X[400:], y[400:])}\")\n",
    "        # print(y[400:][0])\n",
    "        print(f\"MSE: {calculate_mse(mlp.forward(X[:400]), y[:400])}\")\n",
    "        print(f\"MAE: {calculate_mae(mlp.forward(X[:400]), y[:400])}\")\n",
    "        print(f\"accuracy: {mlp.accuracy(X[:400], y[:400])}\\n\")\n",
    "\n",
    "# Calculate accuracy\n",
    "print(mlp.accuracy(X[400:], y[400:]))\n",
    "\n",
    "# test the MLP on the remaining 100 examples\n",
    "print(\"Test set:\")\n",
    "print(f\"MSE: {calculate_mse(mlp.forward(X[400:]), y[400:])}\")\n",
    "print(f\"MAE: {calculate_mae(mlp.forward(X[400:]), y[400:])}\")\n",
    "print(f\"accuracy: {mlp.accuracy(X[400:], y[400:])}\")\n",
    "\n",
    "print(\"\\nsmall test set:\")\n",
    "print(mlp.forward(np.array([0.25, 0.5, 0.75, 1.0])), np.sin(0.25 - 0.5 + 0.75 - 1.0))\n",
    "print(mlp.forward(np.array([0.5, 0.6, 0.7, 0.8])), np.sin(0.5 - 0.6 + 0.7 - 0.8))\n"
   ],
   "metadata": {
    "collapsed": false,
    "ExecuteTime": {
     "end_time": "2023-11-26T21:25:36.118472900Z",
     "start_time": "2023-11-26T21:25:19.794230Z"
    }
   }
  },
  {
   "cell_type": "code",
   "execution_count": null,
   "outputs": [],
   "source": [
    "\n"
   ],
   "metadata": {
    "collapsed": false
   }
  }
 ],
 "metadata": {
  "kernelspec": {
   "display_name": "Python 3",
   "language": "python",
   "name": "python3"
  },
  "language_info": {
   "codemirror_mode": {
    "name": "ipython",
    "version": 2
   },
   "file_extension": ".py",
   "mimetype": "text/x-python",
   "name": "python",
   "nbconvert_exporter": "python",
   "pygments_lexer": "ipython2",
   "version": "2.7.6"
  }
 },
 "nbformat": 4,
 "nbformat_minor": 0
}
