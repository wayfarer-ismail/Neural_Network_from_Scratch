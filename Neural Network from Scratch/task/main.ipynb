{
 "cells": [
  {
   "cell_type": "code",
   "execution_count": 3,
   "outputs": [
    {
     "name": "stdout",
     "output_type": "stream",
     "text": [
      "[0 0 0 0]\n",
      "[[0.15134894]\n",
      " [0.71715115]\n",
      " [0.61119722]\n",
      " [0.63205154]]\n"
     ]
    }
   ],
   "source": [
    "# Train an MLP with 2 inputs, 3-4+ hidden units and one output on the\n",
    "# following examples (XOR function):\n",
    "# ((0, 0), 0)\n",
    "# ((0, 1), 1)\n",
    "# ((1, 0), 1)\n",
    "# ((1, 1), 0)\n",
    "\n",
    "import numpy as np\n",
    "import matplotlib.pyplot as plt\n",
    "# from NeuralNetwork import TwoLayerNeural, epoch_learn\n",
    "from MLP import MultiLayerPerceptron\n",
    "from main import plot\n",
    "\n",
    "X = np.array([[0, 0], [0, 1], [1, 0], [1, 1]])\n",
    "y = np.array([[0], [1], [1], [0]])\n",
    "\n",
    "network = MultiLayerPerceptron(2, 10, 1)\n",
    "network.randomise()\n",
    "\n",
    "accuracy = []\n",
    "loss = []\n",
    "for i in range(1000):\n",
    "    error = network.train(X, y, 0.95)\n",
    "    accuracy.append(network.accuracy(X, y))\n",
    "    loss.append(error)\n",
    "\n",
    "# plot(accuracy, loss)\n",
    "y_pred = np.argmax(network.forward(X), axis=1)\n",
    "print(y_pred)\n",
    "print(network.forward(X))\n",
    "\n"
   ],
   "metadata": {
    "collapsed": false,
    "ExecuteTime": {
     "start_time": "2023-11-10T11:59:21.499207Z",
     "end_time": "2023-11-10T11:59:21.594393Z"
    }
   }
  },
  {
   "cell_type": "code",
   "execution_count": null,
   "outputs": [],
   "source": [],
   "metadata": {
    "collapsed": false
   }
  }
 ],
 "metadata": {
  "kernelspec": {
   "display_name": "Python 3",
   "language": "python",
   "name": "python3"
  },
  "language_info": {
   "codemirror_mode": {
    "name": "ipython",
    "version": 2
   },
   "file_extension": ".py",
   "mimetype": "text/x-python",
   "name": "python",
   "nbconvert_exporter": "python",
   "pygments_lexer": "ipython2",
   "version": "2.7.6"
  }
 },
 "nbformat": 4,
 "nbformat_minor": 0
}
