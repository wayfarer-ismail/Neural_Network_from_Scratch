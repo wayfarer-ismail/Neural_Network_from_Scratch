{
 "cells": [
  {
   "cell_type": "code",
   "execution_count": 1,
   "outputs": [],
   "source": [
    "import numpy as np\n",
    "from MLP import MultiLayerPerceptron, MultiLayerPerceptronBig\n",
    "from matplotlib import pyplot as plt\n"
   ],
   "metadata": {
    "collapsed": false,
    "ExecuteTime": {
     "end_time": "2023-12-03T19:51:19.153548700Z",
     "start_time": "2023-12-03T19:51:18.583742600Z"
    }
   }
  },
  {
   "cell_type": "markdown",
   "source": [
    "# Train an MLP with 2 inputs, 3-4+ hidden units and one output on the\n",
    "# following examples (XOR function):\n",
    "((0, 0), 0)\n",
    "((0, 1), 1)\n",
    "((1, 0), 1)\n",
    "((1, 1), 0)\n",
    "Here we will try to find the best alpha and hidden unit size for the MLP by training it on the XOR function."
   ],
   "metadata": {
    "collapsed": false
   }
  },
  {
   "cell_type": "code",
   "execution_count": 2,
   "outputs": [
    {
     "name": "stdout",
     "output_type": "stream",
     "text": [
      "epoch 0\n",
      "[[0.        ]\n",
      " [0.99990723]\n",
      " [0.99988346]\n",
      " [0.99999972]]\n",
      "epoch 1\n",
      "[[0.        ]\n",
      " [0.9994656 ]\n",
      " [0.99933428]\n",
      " [0.99999616]]\n",
      "epoch 2\n",
      "[[0.        ]\n",
      " [0.99727562]\n",
      " [0.99661858]\n",
      " [0.99995268]]\n",
      "epoch 3\n",
      "[[0.        ]\n",
      " [0.98762335]\n",
      " [0.98463399]\n",
      " [0.99947391]]\n",
      "epoch 4\n",
      "[[0.        ]\n",
      " [0.95048668]\n",
      " [0.93847197]\n",
      " [0.99486024]]\n",
      "epoch 5\n",
      "[[0.        ]\n",
      " [0.83774137]\n",
      " [0.79996031]\n",
      " [0.96053467]]\n",
      "epoch 6\n",
      "[[0.        ]\n",
      " [0.64154745]\n",
      " [0.57028733]\n",
      " [0.83388679]]\n",
      "epoch 7\n",
      "[[0.        ]\n",
      " [0.56222754]\n",
      " [0.49589405]\n",
      " [0.76021283]]\n",
      "epoch 8\n",
      "[[0.        ]\n",
      " [0.57487529]\n",
      " [0.52804127]\n",
      " [0.77382397]]\n",
      "epoch 9\n",
      "[[0.        ]\n",
      " [0.56045231]\n",
      " [0.52530612]\n",
      " [0.75824705]]\n",
      "[[0.        ]\n",
      " [0.56045231]\n",
      " [0.52530612]\n",
      " [0.75824705]]\n"
     ]
    }
   ],
   "source": [
    "X = np.array([[0, 0], [0, 1], [1, 0], [1, 1]])\n",
    "y = np.array([[0], [1], [1], [0]])\n",
    "\n",
    "network = MultiLayerPerceptron(2, 10, 1)\n",
    "network.randomise()\n",
    "\n",
    "# Train the MLP\n",
    "for epoch in range(10000):\n",
    "    network.train(X, y, 0.2)\n",
    "\n",
    "print(network.forward(X))"
   ],
   "metadata": {
    "collapsed": false,
    "ExecuteTime": {
     "end_time": "2023-12-03T19:51:19.169167Z",
     "start_time": "2023-12-03T19:51:19.153548700Z"
    }
   }
  },
  {
   "cell_type": "code",
   "execution_count": 3,
   "outputs": [
    {
     "name": "stderr",
     "output_type": "stream",
     "text": [
      "C:\\comp_sci\\coding\\python\\Neural Network from Scratch\\Neural Network from Scratch\\task\\MLP.py:21: RuntimeWarning: overflow encountered in sinh\n",
      "  return np.sinh(x) / np.cosh(x)\n",
      "C:\\comp_sci\\coding\\python\\Neural Network from Scratch\\Neural Network from Scratch\\task\\MLP.py:21: RuntimeWarning: overflow encountered in cosh\n",
      "  return np.sinh(x) / np.cosh(x)\n",
      "C:\\comp_sci\\coding\\python\\Neural Network from Scratch\\Neural Network from Scratch\\task\\MLP.py:21: RuntimeWarning: invalid value encountered in divide\n",
      "  return np.sinh(x) / np.cosh(x)\n"
     ]
    },
    {
     "data": {
      "text/plain": "<Figure size 640x480 with 2 Axes>",
      "image/png": "[encoded data removed]"
     },
     "metadata": {},
     "output_type": "display_data"
    },
    {
     "data": {
      "text/plain": "<Figure size 640x480 with 0 Axes>"
     },
     "metadata": {},
     "output_type": "display_data"
    }
   ],
   "source": [
    "hidden_unit_sizes = [3, 6, 10, 20, 30, 40]\n",
    "alpha_values = [0.1, 0.2, 0.3, 0.4, 0.5, 0.6, 0.7, 0.8, 0.9]\n",
    "\n",
    "# plot alpha values against hidden unit size for the MLP on the XOR function\n",
    "# use a scatter plot\n",
    "total_accuracy = np.zeros((len(alpha_values), len(hidden_unit_sizes)))\n",
    "\n",
    "def accuracy(network, I, t):\n",
    "    # Calculate the accuracy of the model\n",
    "    y_pred = np.round(network.forward(I))\n",
    "    return np.mean(y_pred == t)\n",
    "\n",
    "def train_and_evaluate(alpha, hidden_unit_size):\n",
    "    # Create the MLP\n",
    "    network = MultiLayerPerceptron(2, hidden_unit_size, 1)\n",
    "    network.randomise()\n",
    "\n",
    "    # Train the MLP\n",
    "    for epoch in range(10000):\n",
    "        network.train(X, y, alpha)\n",
    "\n",
    "    # Calculate accuracy\n",
    "    return accuracy(network, X, y)\n",
    "\n",
    "for i, learning_rate in enumerate(alpha_values):\n",
    "    for j, hidden_unit_size in enumerate(hidden_unit_sizes):\n",
    "        total_accuracy[i, j] = train_and_evaluate(learning_rate, hidden_unit_size)\n",
    "\n",
    "plt.imshow(total_accuracy, cmap='viridis')\n",
    "plt.xticks(np.arange(len(hidden_unit_sizes)), hidden_unit_sizes)\n",
    "plt.xlabel('Hidden unit size')\n",
    "plt.yticks(np.arange(len(alpha_values)), alpha_values)\n",
    "plt.ylabel('Learning rate')\n",
    "plt.colorbar()\n",
    "plt.show()\n",
    "location = \"figures/mlp_alpha_units\"\n",
    "plt.savefig(f\"{location}.png\")\n",
    "\n"
   ],
   "metadata": {
    "collapsed": false,
    "ExecuteTime": {
     "end_time": "2023-12-03T19:51:20.871027800Z",
     "start_time": "2023-12-03T19:51:19.169167Z"
    }
   }
  },
  {
   "cell_type": "markdown",
   "source": [
    "# Now we will train the MLP on a combination of inputs"
   ],
   "metadata": {
    "collapsed": false
   }
  },
  {
   "cell_type": "code",
   "execution_count": 4,
   "outputs": [],
   "source": [
    "def calculate_mse(predictions, actual_values):\n",
    "    errors = predictions - actual_values\n",
    "    squared_errors = errors * errors\n",
    "    mse = np.mean(squared_errors)\n",
    "    return mse\n",
    "\n",
    "def calculate_mae(predictions, actual_values):\n",
    "    errors = predictions - actual_values\n",
    "    absolute_errors = np.abs(errors)\n",
    "    mae = np.mean(absolute_errors)\n",
    "    return mae\n"
   ],
   "metadata": {
    "collapsed": false,
    "ExecuteTime": {
     "end_time": "2023-12-03T19:51:20.933538200Z",
     "start_time": "2023-12-03T19:51:20.871027800Z"
    }
   }
  },
  {
   "cell_type": "code",
   "execution_count": 5,
   "outputs": [
    {
     "ename": "ValueError",
     "evalue": "shapes (60,) and (20,) not aligned: 60 (dim 0) != 20 (dim 0)",
     "output_type": "error",
     "traceback": [
      "\u001B[1;31m---------------------------------------------------------------------------\u001B[0m",
      "\u001B[1;31mValueError\u001B[0m                                Traceback (most recent call last)",
      "Cell \u001B[1;32mIn[5], line 21\u001B[0m\n\u001B[0;32m     19\u001B[0m \u001B[38;5;28;01mfor\u001B[39;00m epoch \u001B[38;5;129;01min\u001B[39;00m \u001B[38;5;28mrange\u001B[39m(\u001B[38;5;241m100\u001B[39m):\n\u001B[0;32m     20\u001B[0m     \u001B[38;5;28;01mfor\u001B[39;00m value, target \u001B[38;5;129;01min\u001B[39;00m \u001B[38;5;28mzip\u001B[39m(X[:\u001B[38;5;241m400\u001B[39m], y[:\u001B[38;5;241m400\u001B[39m]):\n\u001B[1;32m---> 21\u001B[0m         \u001B[43mmlp\u001B[49m\u001B[38;5;241;43m.\u001B[39;49m\u001B[43mtrain\u001B[49m\u001B[43m(\u001B[49m\u001B[43mvalue\u001B[49m\u001B[43m,\u001B[49m\u001B[43m \u001B[49m\u001B[43mtarget\u001B[49m\u001B[43m,\u001B[49m\u001B[43m \u001B[49m\u001B[38;5;241;43m0.85\u001B[39;49m\u001B[43m)\u001B[49m\n\u001B[0;32m     23\u001B[0m     \u001B[38;5;66;03m# mlp.train(X[:400], y[:400], 0.85)\u001B[39;00m\n\u001B[0;32m     25\u001B[0m     \u001B[38;5;28;01mif\u001B[39;00m epoch \u001B[38;5;241m%\u001B[39m \u001B[38;5;241m1000\u001B[39m \u001B[38;5;241m==\u001B[39m \u001B[38;5;241m0\u001B[39m:\n\u001B[0;32m     26\u001B[0m         \u001B[38;5;66;03m# print(f\"Epoch {epoch} accuracy: {mlp.accuracy(X[400:], y[400:])}\")\u001B[39;00m\n\u001B[0;32m     27\u001B[0m         \u001B[38;5;66;03m# print(y[400:][0])\u001B[39;00m\n",
      "File \u001B[1;32mC:\\comp_sci\\coding\\python\\Neural Network from Scratch\\Neural Network from Scratch\\task\\MLP.py:208\u001B[0m, in \u001B[0;36mMultiLayerPerceptronBig.train\u001B[1;34m(self, X, t, learning_rate)\u001B[0m\n\u001B[0;32m    204\u001B[0m \u001B[38;5;250m\u001B[39m\u001B[38;5;124;03m\"\"\"\u001B[39;00m\n\u001B[0;32m    205\u001B[0m \u001B[38;5;124;03mOne round of training, forward pass followed by a backwards pass and weight update.\u001B[39;00m\n\u001B[0;32m    206\u001B[0m \u001B[38;5;124;03m\"\"\"\u001B[39;00m\n\u001B[0;32m    207\u001B[0m \u001B[38;5;28mself\u001B[39m\u001B[38;5;241m.\u001B[39mforward(X)\n\u001B[1;32m--> 208\u001B[0m \u001B[38;5;28;43mself\u001B[39;49m\u001B[38;5;241;43m.\u001B[39;49m\u001B[43mbackwards\u001B[49m\u001B[43m(\u001B[49m\u001B[43mX\u001B[49m\u001B[43m,\u001B[49m\u001B[43m \u001B[49m\u001B[43mt\u001B[49m\u001B[43m,\u001B[49m\u001B[43m \u001B[49m\u001B[43mlearning_rate\u001B[49m\u001B[43m)\u001B[49m\n",
      "File \u001B[1;32mC:\\comp_sci\\coding\\python\\Neural Network from Scratch\\Neural Network from Scratch\\task\\MLP.py:179\u001B[0m, in \u001B[0;36mMultiLayerPerceptronBig.backwards\u001B[1;34m(self, X, t, learning_rate)\u001B[0m\n\u001B[0;32m    176\u001B[0m \u001B[38;5;28mself\u001B[39m\u001B[38;5;241m.\u001B[39mdW_out \u001B[38;5;241m=\u001B[39m \u001B[38;5;28mself\u001B[39m\u001B[38;5;241m.\u001B[39mH2\u001B[38;5;241m.\u001B[39mT \u001B[38;5;241m*\u001B[39m delta_out\n\u001B[0;32m    177\u001B[0m \u001B[38;5;28mself\u001B[39m\u001B[38;5;241m.\u001B[39mb_out \u001B[38;5;241m=\u001B[39m np\u001B[38;5;241m.\u001B[39msum(delta_out, axis\u001B[38;5;241m=\u001B[39m\u001B[38;5;241m0\u001B[39m)\n\u001B[1;32m--> 179\u001B[0m \u001B[38;5;28mself\u001B[39m\u001B[38;5;241m.\u001B[39mdW2 \u001B[38;5;241m=\u001B[39m \u001B[38;5;28;43mself\u001B[39;49m\u001B[38;5;241;43m.\u001B[39;49m\u001B[43mH1\u001B[49m\u001B[38;5;241;43m.\u001B[39;49m\u001B[43mT\u001B[49m\u001B[38;5;241;43m.\u001B[39;49m\u001B[43mdot\u001B[49m\u001B[43m(\u001B[49m\u001B[43mdelta_H2\u001B[49m\u001B[43m)\u001B[49m\n\u001B[0;32m    180\u001B[0m \u001B[38;5;28mself\u001B[39m\u001B[38;5;241m.\u001B[39mW2 \u001B[38;5;241m-\u001B[39m\u001B[38;5;241m=\u001B[39m learning_rate \u001B[38;5;241m*\u001B[39m \u001B[38;5;28mself\u001B[39m\u001B[38;5;241m.\u001B[39mdW2\n\u001B[0;32m    182\u001B[0m \u001B[38;5;28mself\u001B[39m\u001B[38;5;241m.\u001B[39mdW1 \u001B[38;5;241m=\u001B[39m X\u001B[38;5;241m.\u001B[39mT\u001B[38;5;241m.\u001B[39mdot(delta_H1)\n",
      "\u001B[1;31mValueError\u001B[0m: shapes (60,) and (20,) not aligned: 60 (dim 0) != 20 (dim 0)"
     ]
    }
   ],
   "source": [
    "# Generate 500 vectors containing 4 components each. The value of each\n",
    "# component should be a random number between -1 and 1. These will be\n",
    "# your input vectors. The corresponding output for each vector should be\n",
    "# the sin() of a combination of the components. Specifically, for inputs:\n",
    "# [x1 x2 x3 x4]\n",
    "# the (single component) output should be:\n",
    "# sin(x1-x2+x3-x4)\n",
    "# Now train an MLP with 4 inputs, at least 5 hidden units and one output\n",
    "# on 400 of these examples and keep the remaining 100 for testing.\n",
    "\n",
    "X = np.random.uniform(-1, 1, (500, 4))\n",
    "y = np.sin(X[:, 0] - X[:, 1] + X[:, 2] - X[:, 3]).reshape(-1, 1)\n",
    "\n",
    "mlp = MultiLayerPerceptronBig(4, 30, 60, 1, activation='tanh')\n",
    "#mlp.randomise()\n",
    "\n",
    "#print(mlp.forward(X[0]))\n",
    "# Train the MLP\n",
    "for epoch in range(10000):\n",
    "    mlp.train(X[:400], y[:400], 0.85)\n",
    "\n",
    "    if epoch % 1000 == 0:\n",
    "        # print(f\"Epoch {epoch} accuracy: {mlp.accuracy(X[400:], y[400:])}\")\n",
    "        # print(y[400:][0])\n",
    "        print(f\"MSE: {calculate_mse(mlp.forward(X[:400]), y[:400])}\")\n",
    "        print(f\"MAE: {calculate_mae(mlp.forward(X[:400]), y[:400])}\")\n",
    "        print(f\"accuracy: {mlp.accuracy(X[:400], y[:400])}\\n\")\n",
    "\n",
    "# Calculate accuracy\n",
    "print(mlp.accuracy(X[400:], y[400:]))\n",
    "\n",
    "# test the MLP on the remaining 100 examples\n",
    "print(\"Test set:\")\n",
    "print(f\"MSE: {calculate_mse(mlp.forward(X[400:]), y[400:])}\")\n",
    "print(f\"MAE: {calculate_mae(mlp.forward(X[400:]), y[400:])}\")\n",
    "print(f\"accuracy: {mlp.accuracy(X[400:], y[400:])}\")\n",
    "\n",
    "print(\"\\nsmall test set:\")\n",
    "print(mlp.forward(np.array([0.25, 0.5, 0.75, 1.0])), np.sin(0.25 - 0.5 + 0.75 - 1.0))\n",
    "print(mlp.forward(np.array([0.5, 0.6, 0.7, 0.8])), np.sin(0.5 - 0.6 + 0.7 - 0.8))\n"
   ],
   "metadata": {
    "collapsed": false,
    "ExecuteTime": {
     "end_time": "2023-12-03T19:51:21.187514800Z",
     "start_time": "2023-12-03T19:51:20.886638800Z"
    }
   }
  },
  {
   "cell_type": "code",
   "execution_count": null,
   "outputs": [],
   "source": [
    "\n"
   ],
   "metadata": {
    "collapsed": false
   }
  }
 ],
 "metadata": {
  "kernelspec": {
   "display_name": "Python 3",
   "language": "python",
   "name": "python3"
  },
  "language_info": {
   "codemirror_mode": {
    "name": "ipython",
    "version": 2
   },
   "file_extension": ".py",
   "mimetype": "text/x-python",
   "name": "python",
   "nbconvert_exporter": "python",
   "pygments_lexer": "ipython2",
   "version": "2.7.6"
  }
 },
 "nbformat": 4,
 "nbformat_minor": 0
}
