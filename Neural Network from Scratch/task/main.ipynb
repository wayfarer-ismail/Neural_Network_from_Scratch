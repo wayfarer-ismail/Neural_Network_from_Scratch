{
 "cells": [
  {
   "cell_type": "code",
   "execution_count": 1,
   "outputs": [],
   "source": [
    "import numpy as np\n",
    "from MLP import MultiLayerPerceptron, MultiLayerPerceptronBig\n",
    "from matplotlib import pyplot as plt\n"
   ],
   "metadata": {
    "collapsed": false,
    "ExecuteTime": {
     "end_time": "2023-12-04T15:50:25.646416600Z",
     "start_time": "2023-12-04T15:50:25.266819Z"
    }
   }
  },
  {
   "cell_type": "markdown",
   "source": [
    "# Train an MLP with 2 inputs, 3-4+ hidden units and one output on the\n",
    "# following examples (XOR function):\n",
    "((0, 0), 0)\n",
    "((0, 1), 1)\n",
    "((1, 0), 1)\n",
    "((1, 1), 0)\n",
    "Here we will try to find the best alpha and hidden unit size for the MLP by training it on the XOR function."
   ],
   "metadata": {
    "collapsed": false
   }
  },
  {
   "cell_type": "code",
   "execution_count": 2,
   "outputs": [
    {
     "name": "stdout",
     "output_type": "stream",
     "text": [
      "epoch 0\n",
      "[[0.        ]\n",
      " [0.99965481]\n",
      " [0.99818592]\n",
      " [0.99999765]]\n",
      "epoch 1\n",
      "[[0.        ]\n",
      " [0.99825614]\n",
      " [0.99230237]\n",
      " [0.99997126]]\n",
      "epoch 2\n",
      "[[0.        ]\n",
      " [0.99220123]\n",
      " [0.97157686]\n",
      " [0.99969008]]\n",
      "epoch 3\n",
      "[[0.        ]\n",
      " [0.96940629]\n",
      " [0.91000834]\n",
      " [0.99714803]]\n",
      "epoch 4\n",
      "[[0.        ]\n",
      " [0.90002838]\n",
      " [0.76964335]\n",
      " [0.97964777]]\n",
      "epoch 5\n",
      "[[0.        ]\n",
      " [0.76024359]\n",
      " [0.57245565]\n",
      " [0.91135053]]\n",
      "epoch 6\n",
      "[[0.        ]\n",
      " [0.62595715]\n",
      " [0.45663777]\n",
      " [0.81965354]]\n",
      "epoch 7\n",
      "[[0.        ]\n",
      " [0.57785701]\n",
      " [0.45546677]\n",
      " [0.79313077]]\n",
      "epoch 8\n",
      "[[0.        ]\n",
      " [0.5634185 ]\n",
      " [0.47663211]\n",
      " [0.79198816]]\n",
      "epoch 9\n",
      "[[0.        ]\n",
      " [0.55300842]\n",
      " [0.49135084]\n",
      " [0.7902857 ]]\n",
      "[[0.        ]\n",
      " [0.55300842]\n",
      " [0.49135084]\n",
      " [0.7902857 ]]\n"
     ]
    }
   ],
   "source": [
    "X = np.array([[0, 0], [0, 1], [1, 0], [1, 1]])\n",
    "y = np.array([[0], [1], [1], [0]])\n",
    "\n",
    "network = MultiLayerPerceptron(2, 10, 1)\n",
    "network.randomise()\n",
    "\n",
    "# Train the MLP\n",
    "for epoch in range(10000):\n",
    "    network.train(X, y, 0.2)\n",
    "\n",
    "print(network.forward(X))"
   ],
   "metadata": {
    "collapsed": false,
    "ExecuteTime": {
     "end_time": "2023-12-04T15:50:25.662042800Z",
     "start_time": "2023-12-04T15:50:25.646416600Z"
    }
   }
  },
  {
   "cell_type": "code",
   "execution_count": 3,
   "outputs": [
    {
     "name": "stderr",
     "output_type": "stream",
     "text": [
      "C:\\comp_sci\\coding\\python\\Neural Network from Scratch\\Neural Network from Scratch\\task\\MLP.py:21: RuntimeWarning: overflow encountered in sinh\n",
      "  return np.sinh(x) / np.cosh(x)\n",
      "C:\\comp_sci\\coding\\python\\Neural Network from Scratch\\Neural Network from Scratch\\task\\MLP.py:21: RuntimeWarning: overflow encountered in cosh\n",
      "  return np.sinh(x) / np.cosh(x)\n",
      "C:\\comp_sci\\coding\\python\\Neural Network from Scratch\\Neural Network from Scratch\\task\\MLP.py:21: RuntimeWarning: invalid value encountered in divide\n",
      "  return np.sinh(x) / np.cosh(x)\n"
     ]
    },
    {
     "data": {
      "text/plain": "<Figure size 640x480 with 2 Axes>",
      "image/png": "[encoded data removed]"
     },
     "metadata": {},
     "output_type": "display_data"
    },
    {
     "data": {
      "text/plain": "<Figure size 640x480 with 0 Axes>"
     },
     "metadata": {},
     "output_type": "display_data"
    }
   ],
   "source": [
    "hidden_unit_sizes = [3, 6, 10, 20, 30, 40]\n",
    "alpha_values = [0.1, 0.2, 0.3, 0.4, 0.5, 0.6, 0.7, 0.8, 0.9]\n",
    "\n",
    "# plot alpha values against hidden unit size for the MLP on the XOR function\n",
    "# use a scatter plot\n",
    "total_accuracy = np.zeros((len(alpha_values), len(hidden_unit_sizes)))\n",
    "\n",
    "def accuracy(network, I, t):\n",
    "    # Calculate the accuracy of the model\n",
    "    y_pred = np.round(network.forward(I))\n",
    "    return np.mean(y_pred == t)\n",
    "\n",
    "def train_and_evaluate(alpha, hidden_unit_size):\n",
    "    # Create the MLP\n",
    "    network = MultiLayerPerceptron(2, hidden_unit_size, 1)\n",
    "    network.randomise()\n",
    "\n",
    "    # Train the MLP\n",
    "    for epoch in range(10000):\n",
    "        network.train(X, y, alpha)\n",
    "\n",
    "    # Calculate accuracy\n",
    "    return accuracy(network, X, y)\n",
    "\n",
    "for i, learning_rate in enumerate(alpha_values):\n",
    "    for j, hidden_unit_size in enumerate(hidden_unit_sizes):\n",
    "        total_accuracy[i, j] = train_and_evaluate(learning_rate, hidden_unit_size)\n",
    "\n",
    "plt.imshow(total_accuracy, cmap='viridis')\n",
    "plt.xticks(np.arange(len(hidden_unit_sizes)), hidden_unit_sizes)\n",
    "plt.xlabel('Hidden unit size')\n",
    "plt.yticks(np.arange(len(alpha_values)), alpha_values)\n",
    "plt.ylabel('Learning rate')\n",
    "plt.colorbar()\n",
    "plt.show()\n",
    "location = \"figures/mlp_alpha_units\"\n",
    "plt.savefig(f\"{location}.png\")\n",
    "\n"
   ],
   "metadata": {
    "collapsed": false,
    "ExecuteTime": {
     "end_time": "2023-12-04T15:50:27.245830500Z",
     "start_time": "2023-12-04T15:50:25.662042800Z"
    }
   }
  },
  {
   "cell_type": "markdown",
   "source": [
    "# Now we will train the MLP on a combination of inputs"
   ],
   "metadata": {
    "collapsed": false
   }
  },
  {
   "cell_type": "code",
   "execution_count": 4,
   "outputs": [],
   "source": [
    "def calculate_mse(predictions, actual_values):\n",
    "    errors = predictions - actual_values\n",
    "    squared_errors = errors * errors\n",
    "    mse = np.mean(squared_errors)\n",
    "    return mse\n",
    "\n",
    "def calculate_mae(predictions, actual_values):\n",
    "    errors = predictions - actual_values\n",
    "    absolute_errors = np.abs(errors)\n",
    "    mae = np.mean(absolute_errors)\n",
    "    return mae\n"
   ],
   "metadata": {
    "collapsed": false,
    "ExecuteTime": {
     "end_time": "2023-12-04T15:50:27.323817Z",
     "start_time": "2023-12-04T15:50:27.245830500Z"
    }
   }
  },
  {
   "cell_type": "code",
   "execution_count": 5,
   "outputs": [
    {
     "name": "stdout",
     "output_type": "stream",
     "text": [
      "MSE: 0.03407924036484958\n",
      "MAE: 0.14952178990053405\n",
      "accuracy: 1.0\n",
      "\n",
      "1.0\n",
      "Test set:\n",
      "MSE: 0.030188737578376843\n",
      "MAE: 0.14137427219110404\n",
      "accuracy: 1.0\n",
      "\n",
      "small test set:\n",
      "[[-0.37259891]] -0.479425538604203\n",
      "[[-0.03611044]] -0.19866933079506127\n"
     ]
    }
   ],
   "source": [
    "# Generate 500 vectors containing 4 components each. The value of each\n",
    "# component should be a random number between -1 and 1. These will be\n",
    "# your input vectors. The corresponding output for each vector should be\n",
    "# the sin() of a combination of the components. Specifically, for inputs:\n",
    "# [x1 x2 x3 x4]\n",
    "# the (single component) output should be:\n",
    "# sin(x1-x2+x3-x4)\n",
    "# Now train an MLP with 4 inputs, at least 5 hidden units and one output\n",
    "# on 400 of these examples and keep the remaining 100 for testing.\n",
    "\n",
    "X = np.random.uniform(-1, 1, (500, 4))\n",
    "y = np.sin(X[:, 0] - X[:, 1] + X[:, 2] - X[:, 3]).reshape(-1, 1)\n",
    "\n",
    "mlp = MultiLayerPerceptronBig(4, 30, 60, 1, activation='tanh')\n",
    "#mlp.randomise()\n",
    "\n",
    "#print(mlp.forward(X[0]))\n",
    "# Train the MLP\n",
    "for epoch in range(10000):\n",
    "    mlp.train(X[:400], y[:400], 0.85)\n",
    "\n",
    "    if epoch % 1000 == 0:\n",
    "        # print(f\"Epoch {epoch} accuracy: {mlp.accuracy(X[400:], y[400:])}\")\n",
    "        # print(y[400:][0])\n",
    "        print(f\"MSE: {calculate_mse(mlp.forward(X[:400]), y[:400])}\")\n",
    "        print(f\"MAE: {calculate_mae(mlp.forward(X[:400]), y[:400])}\")\n",
    "        print(f\"accuracy: {mlp.accuracy(X[:400], y[:400])}\\n\")\n",
    "\n",
    "# Calculate accuracy\n",
    "print(mlp.accuracy(X[400:], y[400:]))\n",
    "\n",
    "# test the MLP on the remaining 100 examples\n",
    "print(\"Test set:\")\n",
    "print(f\"MSE: {calculate_mse(mlp.forward(X[400:]), y[400:])}\")\n",
    "print(f\"MAE: {calculate_mae(mlp.forward(X[400:]), y[400:])}\")\n",
    "print(f\"accuracy: {mlp.accuracy(X[400:], y[400:])}\")\n",
    "\n",
    "print(\"\\nsmall test set:\")\n",
    "print(mlp.forward(np.array([0.25, 0.5, 0.75, 1.0])), np.sin(0.25 - 0.5 + 0.75 - 1.0))\n",
    "print(mlp.forward(np.array([0.5, 0.6, 0.7, 0.8])), np.sin(0.5 - 0.6 + 0.7 - 0.8))\n"
   ],
   "metadata": {
    "collapsed": false,
    "ExecuteTime": {
     "end_time": "2023-12-04T15:50:29.256585900Z",
     "start_time": "2023-12-04T15:50:27.261486600Z"
    }
   }
  },
  {
   "cell_type": "code",
   "execution_count": 5,
   "outputs": [],
   "source": [
    "\n"
   ],
   "metadata": {
    "collapsed": false,
    "ExecuteTime": {
     "end_time": "2023-12-04T15:50:29.272489200Z",
     "start_time": "2023-12-04T15:50:29.256585900Z"
    }
   }
  }
 ],
 "metadata": {
  "kernelspec": {
   "display_name": "Python 3",
   "language": "python",
   "name": "python3"
  },
  "language_info": {
   "codemirror_mode": {
    "name": "ipython",
    "version": 2
   },
   "file_extension": ".py",
   "mimetype": "text/x-python",
   "name": "python",
   "nbconvert_exporter": "python",
   "pygments_lexer": "ipython2",
   "version": "2.7.6"
  }
 },
 "nbformat": 4,
 "nbformat_minor": 0
}
